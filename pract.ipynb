{
 "cells": [
  {
   "cell_type": "code",
   "execution_count": 1,
   "metadata": {},
   "outputs": [],
   "source": [
    "def outer(x):\n",
    "    def inner(y):\n",
    "        return x + y\n",
    "    return inner"
   ]
  },
  {
   "cell_type": "code",
   "execution_count": 2,
   "metadata": {},
   "outputs": [
    {
     "data": {
      "text/plain": [
       "<function __main__.outer.<locals>.inner(y)>"
      ]
     },
     "execution_count": 2,
     "metadata": {},
     "output_type": "execute_result"
    }
   ],
   "source": [
    "outer(5)"
   ]
  },
  {
   "cell_type": "code",
   "execution_count": 8,
   "metadata": {},
   "outputs": [],
   "source": [
    "def make_pretty(func):\n",
    "\n",
    "    print(\"I got decorated\")\n",
    "    func()\n",
    "\n",
    "\n",
    "\n",
    "def ordinary():\n",
    "    print(\"I am ordinary\")"
   ]
  },
  {
   "cell_type": "code",
   "execution_count": 9,
   "metadata": {},
   "outputs": [
    {
     "name": "stdout",
     "output_type": "stream",
     "text": [
      "I am ordinary\n"
     ]
    }
   ],
   "source": [
    "ordinary()"
   ]
  },
  {
   "cell_type": "code",
   "execution_count": 31,
   "metadata": {},
   "outputs": [],
   "source": [
    "from pydantic import BaseModel\n",
    "\n",
    "class data(BaseModel):\n",
    "    x : int\n",
    "    y : int\n",
    "\n",
    "\n",
    "\n",
    "def add (x:int,y:int):\n",
    "    data(x=x,y=y)\n",
    "    print (x+y)\n",
    "\n"
   ]
  },
  {
   "cell_type": "code",
   "execution_count": 34,
   "metadata": {},
   "outputs": [
    {
     "ename": "ValidationError",
     "evalue": "1 validation error for data\nx\n  value is not a valid integer (type=type_error.integer)",
     "output_type": "error",
     "traceback": [
      "\u001b[0;31m---------------------------------------------------------------------------\u001b[0m",
      "\u001b[0;31mValidationError\u001b[0m                           Traceback (most recent call last)",
      "\u001b[1;32m/Users/rahulmahajan/Desktop/Projects/hydra/pract.ipynb Cell 6\u001b[0m line \u001b[0;36m1\n\u001b[0;32m----> <a href='vscode-notebook-cell:/Users/rahulmahajan/Desktop/Projects/hydra/pract.ipynb#W5sZmlsZQ%3D%3D?line=0'>1</a>\u001b[0m add(\u001b[39m'\u001b[39;49m\u001b[39m123s\u001b[39;49m\u001b[39m'\u001b[39;49m,\u001b[39m1\u001b[39;49m)\n",
      "\u001b[1;32m/Users/rahulmahajan/Desktop/Projects/hydra/pract.ipynb Cell 6\u001b[0m line \u001b[0;36m1\n\u001b[1;32m     <a href='vscode-notebook-cell:/Users/rahulmahajan/Desktop/Projects/hydra/pract.ipynb#W5sZmlsZQ%3D%3D?line=9'>10</a>\u001b[0m \u001b[39mdef\u001b[39;00m \u001b[39madd\u001b[39m (x:\u001b[39mint\u001b[39m,y:\u001b[39mint\u001b[39m):\n\u001b[0;32m---> <a href='vscode-notebook-cell:/Users/rahulmahajan/Desktop/Projects/hydra/pract.ipynb#W5sZmlsZQ%3D%3D?line=10'>11</a>\u001b[0m     data(x\u001b[39m=\u001b[39;49mx,y\u001b[39m=\u001b[39;49my)\n\u001b[1;32m     <a href='vscode-notebook-cell:/Users/rahulmahajan/Desktop/Projects/hydra/pract.ipynb#W5sZmlsZQ%3D%3D?line=11'>12</a>\u001b[0m     \u001b[39mprint\u001b[39m (x\u001b[39m+\u001b[39my)\n",
      "File \u001b[0;32m/Library/Frameworks/Python.framework/Versions/3.11/lib/python3.11/site-packages/pydantic/main.py:341\u001b[0m, in \u001b[0;36mpydantic.main.BaseModel.__init__\u001b[0;34m()\u001b[0m\n",
      "\u001b[0;31mValidationError\u001b[0m: 1 validation error for data\nx\n  value is not a valid integer (type=type_error.integer)"
     ]
    }
   ],
   "source": [
    "add('123s',1)"
   ]
  },
  {
   "cell_type": "code",
   "execution_count": 37,
   "metadata": {},
   "outputs": [
    {
     "ename": "ValidationError",
     "evalue": "1 validation error for data\nx\n  value is not a valid integer (type=type_error.integer)",
     "output_type": "error",
     "traceback": [
      "\u001b[0;31m---------------------------------------------------------------------------\u001b[0m",
      "\u001b[0;31mValidationError\u001b[0m                           Traceback (most recent call last)",
      "\u001b[1;32m/Users/rahulmahajan/Desktop/Projects/hydra/pract.ipynb Cell 7\u001b[0m line \u001b[0;36m1\n\u001b[1;32m     <a href='vscode-notebook-cell:/Users/rahulmahajan/Desktop/Projects/hydra/pract.ipynb#W6sZmlsZQ%3D%3D?line=10'>11</a>\u001b[0m     data(x\u001b[39m=\u001b[39mx,y\u001b[39m=\u001b[39my)\n\u001b[1;32m     <a href='vscode-notebook-cell:/Users/rahulmahajan/Desktop/Projects/hydra/pract.ipynb#W6sZmlsZQ%3D%3D?line=11'>12</a>\u001b[0m     \u001b[39mprint\u001b[39m (x\u001b[39m+\u001b[39my)\n\u001b[0;32m---> <a href='vscode-notebook-cell:/Users/rahulmahajan/Desktop/Projects/hydra/pract.ipynb#W6sZmlsZQ%3D%3D?line=13'>14</a>\u001b[0m add(\u001b[39m'\u001b[39;49m\u001b[39m123s\u001b[39;49m\u001b[39m'\u001b[39;49m,\u001b[39m1\u001b[39;49m)\n",
      "\u001b[1;32m/Users/rahulmahajan/Desktop/Projects/hydra/pract.ipynb Cell 7\u001b[0m line \u001b[0;36m1\n\u001b[1;32m     <a href='vscode-notebook-cell:/Users/rahulmahajan/Desktop/Projects/hydra/pract.ipynb#W6sZmlsZQ%3D%3D?line=9'>10</a>\u001b[0m \u001b[39mdef\u001b[39;00m \u001b[39madd\u001b[39m (x:\u001b[39mint\u001b[39m,y:\u001b[39mint\u001b[39m):\n\u001b[0;32m---> <a href='vscode-notebook-cell:/Users/rahulmahajan/Desktop/Projects/hydra/pract.ipynb#W6sZmlsZQ%3D%3D?line=10'>11</a>\u001b[0m     data(x\u001b[39m=\u001b[39;49mx,y\u001b[39m=\u001b[39;49my)\n\u001b[1;32m     <a href='vscode-notebook-cell:/Users/rahulmahajan/Desktop/Projects/hydra/pract.ipynb#W6sZmlsZQ%3D%3D?line=11'>12</a>\u001b[0m     \u001b[39mprint\u001b[39m (x\u001b[39m+\u001b[39my)\n",
      "File \u001b[0;32m/Library/Frameworks/Python.framework/Versions/3.11/lib/python3.11/site-packages/pydantic/dataclasses.py:325\u001b[0m, in \u001b[0;36mpydantic.dataclasses._add_pydantic_validation_attributes.new_init\u001b[0;34m()\u001b[0m\n",
      "File \u001b[0;32m/Library/Frameworks/Python.framework/Versions/3.11/lib/python3.11/site-packages/pydantic/dataclasses.py:425\u001b[0m, in \u001b[0;36mpydantic.dataclasses._dataclass_validate_values\u001b[0;34m()\u001b[0m\n",
      "\u001b[0;31mValidationError\u001b[0m: 1 validation error for data\nx\n  value is not a valid integer (type=type_error.integer)"
     ]
    }
   ],
   "source": [
    "from pydantic.dataclasses import dataclass\n",
    "\n",
    "@dataclass\n",
    "class data:\n",
    "    x : int\n",
    "    y : int\n",
    "\n",
    "\n",
    "def add (x:int,y:int):\n",
    "    data(x=x,y=y)\n",
    "    print (x+y)\n",
    "\n",
    "add('123s',1)\n"
   ]
  },
  {
   "cell_type": "code",
   "execution_count": null,
   "metadata": {},
   "outputs": [],
   "source": []
  }
 ],
 "metadata": {
  "kernelspec": {
   "display_name": "Python 3",
   "language": "python",
   "name": "python3"
  },
  "language_info": {
   "codemirror_mode": {
    "name": "ipython",
    "version": 3
   },
   "file_extension": ".py",
   "mimetype": "text/x-python",
   "name": "python",
   "nbconvert_exporter": "python",
   "pygments_lexer": "ipython3",
   "version": "3.11.3"
  },
  "orig_nbformat": 4
 },
 "nbformat": 4,
 "nbformat_minor": 2
}
